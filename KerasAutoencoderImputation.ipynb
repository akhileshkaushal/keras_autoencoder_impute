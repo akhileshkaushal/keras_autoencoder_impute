{
 "cells": [
  {
   "cell_type": "code",
   "execution_count": 3,
   "metadata": {
    "collapsed": false
   },
   "outputs": [
    {
     "name": "stdout",
     "output_type": "stream",
     "text": [
      "(16240, 126)\n",
      "    Gene  GSM2069305  GSM2069306  GSM2069307  GSM2069308  GSM2069309  \\\n",
      "0      1    0.316824    0.252532    0.243955    0.234106    0.292485   \n",
      "1     10         NaN   -0.138681   -0.131388   -0.154578   -0.133985   \n",
      "2    100    2.258508    2.220878    2.292011    2.221837    2.408065   \n",
      "3   1000    0.015773    0.002357   -0.066824   -0.055737    0.070111   \n",
      "4  10000    0.083632    0.072687    0.073163   -0.005703    0.042765   \n",
      "\n",
      "   GSM2069310  GSM2069311  GSM2069312  GSM2069313     ...      GSM2069420  \\\n",
      "0    0.268240    0.321052    0.270014    0.269687     ...        0.372067   \n",
      "1   -0.073763   -0.108244   -0.101171   -0.075025     ...        0.565097   \n",
      "2    2.321494    2.398902    2.409410    2.167130     ...        1.911440   \n",
      "3    0.058310   -0.038059   -0.017265   -0.116453     ...       -0.069461   \n",
      "4    0.041141    0.025783    0.041102    0.042092     ...        0.224562   \n",
      "\n",
      "   GSM2069421  GSM2069422  GSM2069423  GSM2069424  GSM2069425  GSM2069426  \\\n",
      "0    0.675189    0.764933    0.413545    0.830016    1.040675    0.517280   \n",
      "1    0.806116    0.610597    0.329307    1.401139    1.096701    0.591318   \n",
      "2    2.111528    1.735172    1.907772    2.218028    1.950766    2.154102   \n",
      "3   -0.143092   -0.127216   -0.099226   -0.198093   -0.163434    0.145684   \n",
      "4    0.089299    0.266195    0.279413   -0.079563    0.017466    0.145684   \n",
      "\n",
      "   GSM2069427  GSM2069428  GSM2069429  \n",
      "0    1.115917    0.814627    0.520985  \n",
      "1    1.455757    0.679422    0.554491  \n",
      "2    2.001419    1.816722    2.059040  \n",
      "3   -0.153950   -0.094815   -0.115838  \n",
      "4   -0.068360    0.098052    0.175374  \n",
      "\n",
      "[5 rows x 126 columns]\n"
     ]
    }
   ],
   "source": [
    "import pandas as pd\n",
    "import numpy as np\n",
    "\n",
    "gene_exp = pd.read_csv('/data/keras_autoencoder_imputation/E-GEOD-78193.pcl',\n",
    "                       delimiter='\\t')\n",
    "print(gene_exp.shape)\n",
    "print(gene_exp.head())"
   ]
  },
  {
   "cell_type": "code",
   "execution_count": 10,
   "metadata": {
    "collapsed": false,
    "scrolled": false
   },
   "outputs": [
    {
     "ename": "TypeError",
     "evalue": "fit() got an unexpected keyword argument 'epochs'",
     "output_type": "error",
     "traceback": [
      "\u001b[0;31m---------------------------------------------------------------------------\u001b[0m",
      "\u001b[0;31mTypeError\u001b[0m                                 Traceback (most recent call last)",
      "\u001b[0;32m<ipython-input-10-b91817d5e11e>\u001b[0m in \u001b[0;36m<module>\u001b[0;34m()\u001b[0m\n\u001b[1;32m     17\u001b[0m                 \u001b[0mbatch_size\u001b[0m\u001b[0;34m=\u001b[0m\u001b[0;36m256\u001b[0m\u001b[0;34m,\u001b[0m\u001b[0;34m\u001b[0m\u001b[0m\n\u001b[1;32m     18\u001b[0m                 \u001b[0mepochs\u001b[0m\u001b[0;34m=\u001b[0m\u001b[0;36m100\u001b[0m\u001b[0;34m,\u001b[0m\u001b[0;34m\u001b[0m\u001b[0m\n\u001b[0;32m---> 19\u001b[0;31m                 shuffle=True)\n\u001b[0m",
      "\u001b[0;31mTypeError\u001b[0m: fit() got an unexpected keyword argument 'epochs'"
     ]
    }
   ],
   "source": [
    "from keras.layers import Input, Dense\n",
    "from keras.models import Model\n",
    "from keras import backend as K\n",
    "\n",
    "x_train = gene_exp.as_matrix()[:, 1:]\n",
    "\n",
    "input_exp = Input(shape=(126,))\n",
    "encoded = Dense(64, activation='relu')(input_exp)\n",
    "encoded = Dense(32, activation='relu')(encoded)\n",
    "decoded = Dense(64, activation='relu')(encoded)\n",
    "decoded = Dense(126, activation='sigmoid')(decoded)\n",
    "\n",
    "autoencoder = Model(input_exp, decoded)\n",
    "autoencoder.compile(optimizer='adadelta', loss='binary_crossentropy')\n",
    "\n",
    "autoencoder.fit(x_train, x_train,\n",
    "                batch_size=256,\n",
    "                epochs=100,\n",
    "                shuffle=True)"
   ]
  }
 ],
 "metadata": {
  "kernelspec": {
   "display_name": "Python 2",
   "language": "python",
   "name": "python2"
  },
  "language_info": {
   "codemirror_mode": {
    "name": "ipython",
    "version": 2
   },
   "file_extension": ".py",
   "mimetype": "text/x-python",
   "name": "python",
   "nbconvert_exporter": "python",
   "pygments_lexer": "ipython2",
   "version": "2.7.12"
  }
 },
 "nbformat": 4,
 "nbformat_minor": 0
}
